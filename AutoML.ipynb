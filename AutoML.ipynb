{
  "nbformat": 4,
  "nbformat_minor": 0,
  "metadata": {
    "colab": {
      "provenance": [],
      "authorship_tag": "ABX9TyMJW/JNSEkbtiTYJ0tk4rWH",
      "include_colab_link": true
    },
    "kernelspec": {
      "name": "python3",
      "display_name": "Python 3"
    },
    "language_info": {
      "name": "python"
    }
  },
  "cells": [
    {
      "cell_type": "markdown",
      "metadata": {
        "id": "view-in-github",
        "colab_type": "text"
      },
      "source": [
        "<a href=\"https://colab.research.google.com/github/shazam-25/Simplify_ML/blob/main/AutoML.ipynb\" target=\"_parent\"><img src=\"https://colab.research.google.com/assets/colab-badge.svg\" alt=\"Open In Colab\"/></a>"
      ]
    },
    {
      "cell_type": "code",
      "source": [
        "!pip install tpot"
      ],
      "metadata": {
        "colab": {
          "base_uri": "https://localhost:8080/",
          "height": 1000
        },
        "id": "NpSfLKUrLGqV",
        "outputId": "bdfdae7f-3fd1-4d49-bc58-6242cd26b0c1"
      },
      "execution_count": 1,
      "outputs": [
        {
          "output_type": "stream",
          "name": "stdout",
          "text": [
            "Collecting tpot\n",
            "  Downloading TPOT-1.1.0-py3-none-any.whl.metadata (1.9 kB)\n",
            "Requirement already satisfied: numpy>=1.26.4 in /usr/local/lib/python3.12/dist-packages (from tpot) (2.0.2)\n",
            "Requirement already satisfied: scipy>=1.3.1 in /usr/local/lib/python3.12/dist-packages (from tpot) (1.16.1)\n",
            "Requirement already satisfied: scikit-learn>=1.6 in /usr/local/lib/python3.12/dist-packages (from tpot) (1.6.1)\n",
            "Collecting update-checker>=0.16 (from tpot)\n",
            "  Downloading update_checker-0.18.0-py3-none-any.whl.metadata (2.3 kB)\n",
            "Requirement already satisfied: tqdm>=4.36.1 in /usr/local/lib/python3.12/dist-packages (from tpot) (4.67.1)\n",
            "Collecting stopit>=1.1.1 (from tpot)\n",
            "  Downloading stopit-1.1.2.tar.gz (18 kB)\n",
            "  Preparing metadata (setup.py) ... \u001b[?25l\u001b[?25hdone\n",
            "Requirement already satisfied: pandas>=2.2.0 in /usr/local/lib/python3.12/dist-packages (from tpot) (2.2.2)\n",
            "Requirement already satisfied: joblib>=1.1.1 in /usr/local/lib/python3.12/dist-packages (from tpot) (1.5.2)\n",
            "Requirement already satisfied: xgboost>=3.0.0 in /usr/local/lib/python3.12/dist-packages (from tpot) (3.0.5)\n",
            "Requirement already satisfied: matplotlib>=3.6.2 in /usr/local/lib/python3.12/dist-packages (from tpot) (3.10.0)\n",
            "Collecting traitlets>=5.8.0 (from tpot)\n",
            "  Downloading traitlets-5.14.3-py3-none-any.whl.metadata (10 kB)\n",
            "Requirement already satisfied: lightgbm>=3.3.3 in /usr/local/lib/python3.12/dist-packages (from tpot) (4.6.0)\n",
            "Collecting optuna>=3.0.5 (from tpot)\n",
            "  Downloading optuna-4.5.0-py3-none-any.whl.metadata (17 kB)\n",
            "Requirement already satisfied: networkx>=3.0 in /usr/local/lib/python3.12/dist-packages (from tpot) (3.5)\n",
            "Requirement already satisfied: dask>=2024.4.2 in /usr/local/lib/python3.12/dist-packages (from tpot) (2025.5.0)\n",
            "Requirement already satisfied: distributed>=2024.4.2 in /usr/local/lib/python3.12/dist-packages (from tpot) (2025.5.0)\n",
            "Collecting dask-expr>=1.0.12 (from tpot)\n",
            "  Downloading dask_expr-2.0.0-py3-none-any.whl.metadata (2.3 kB)\n",
            "Collecting dask-jobqueue>=0.8.5 (from tpot)\n",
            "  Downloading dask_jobqueue-0.9.0-py2.py3-none-any.whl.metadata (1.3 kB)\n",
            "Collecting func-timeout>=4.3.5 (from tpot)\n",
            "  Downloading func_timeout-4.3.5.tar.gz (44 kB)\n",
            "\u001b[2K     \u001b[90m━━━━━━━━━━━━━━━━━━━━━━━━━━━━━━━━━━━━━━━━\u001b[0m \u001b[32m44.3/44.3 kB\u001b[0m \u001b[31m4.2 MB/s\u001b[0m eta \u001b[36m0:00:00\u001b[0m\n",
            "\u001b[?25h  Preparing metadata (setup.py) ... \u001b[?25l\u001b[?25hdone\n",
            "Collecting configspace>=1.1.1 (from tpot)\n",
            "  Downloading configspace-1.2.1.tar.gz (130 kB)\n",
            "\u001b[2K     \u001b[90m━━━━━━━━━━━━━━━━━━━━━━━━━━━━━━━━━━━━━━\u001b[0m \u001b[32m131.0/131.0 kB\u001b[0m \u001b[31m10.5 MB/s\u001b[0m eta \u001b[36m0:00:00\u001b[0m\n",
            "\u001b[?25h  Installing build dependencies ... \u001b[?25l\u001b[?25hdone\n",
            "  Getting requirements to build wheel ... \u001b[?25l\u001b[?25hdone\n",
            "  Preparing metadata (pyproject.toml) ... \u001b[?25l\u001b[?25hdone\n",
            "Collecting dill>=0.3.9 (from tpot)\n",
            "  Downloading dill-0.4.0-py3-none-any.whl.metadata (10 kB)\n",
            "Requirement already satisfied: seaborn>=0.13.2 in /usr/local/lib/python3.12/dist-packages (from tpot) (0.13.2)\n",
            "Requirement already satisfied: pyparsing in /usr/local/lib/python3.12/dist-packages (from configspace>=1.1.1->tpot) (3.2.3)\n",
            "Requirement already satisfied: typing_extensions in /usr/local/lib/python3.12/dist-packages (from configspace>=1.1.1->tpot) (4.15.0)\n",
            "Requirement already satisfied: more_itertools in /usr/local/lib/python3.12/dist-packages (from configspace>=1.1.1->tpot) (10.8.0)\n",
            "Requirement already satisfied: click>=8.1 in /usr/local/lib/python3.12/dist-packages (from dask>=2024.4.2->tpot) (8.2.1)\n",
            "Requirement already satisfied: cloudpickle>=3.0.0 in /usr/local/lib/python3.12/dist-packages (from dask>=2024.4.2->tpot) (3.1.1)\n",
            "Requirement already satisfied: fsspec>=2021.09.0 in /usr/local/lib/python3.12/dist-packages (from dask>=2024.4.2->tpot) (2025.3.0)\n",
            "Requirement already satisfied: packaging>=20.0 in /usr/local/lib/python3.12/dist-packages (from dask>=2024.4.2->tpot) (25.0)\n",
            "Requirement already satisfied: partd>=1.4.0 in /usr/local/lib/python3.12/dist-packages (from dask>=2024.4.2->tpot) (1.4.2)\n",
            "Requirement already satisfied: pyyaml>=5.3.1 in /usr/local/lib/python3.12/dist-packages (from dask>=2024.4.2->tpot) (6.0.2)\n",
            "Requirement already satisfied: toolz>=0.10.0 in /usr/local/lib/python3.12/dist-packages (from dask>=2024.4.2->tpot) (0.12.1)\n",
            "Requirement already satisfied: jinja2>=2.10.3 in /usr/local/lib/python3.12/dist-packages (from distributed>=2024.4.2->tpot) (3.1.6)\n",
            "Requirement already satisfied: locket>=1.0.0 in /usr/local/lib/python3.12/dist-packages (from distributed>=2024.4.2->tpot) (1.0.0)\n",
            "Requirement already satisfied: msgpack>=1.0.2 in /usr/local/lib/python3.12/dist-packages (from distributed>=2024.4.2->tpot) (1.1.1)\n",
            "Requirement already satisfied: psutil>=5.8.0 in /usr/local/lib/python3.12/dist-packages (from distributed>=2024.4.2->tpot) (5.9.5)\n",
            "Requirement already satisfied: sortedcontainers>=2.0.5 in /usr/local/lib/python3.12/dist-packages (from distributed>=2024.4.2->tpot) (2.4.0)\n",
            "Requirement already satisfied: tblib>=1.6.0 in /usr/local/lib/python3.12/dist-packages (from distributed>=2024.4.2->tpot) (3.1.0)\n",
            "Requirement already satisfied: tornado>=6.2.0 in /usr/local/lib/python3.12/dist-packages (from distributed>=2024.4.2->tpot) (6.4.2)\n",
            "Requirement already satisfied: urllib3>=1.26.5 in /usr/local/lib/python3.12/dist-packages (from distributed>=2024.4.2->tpot) (2.5.0)\n",
            "Requirement already satisfied: zict>=3.0.0 in /usr/local/lib/python3.12/dist-packages (from distributed>=2024.4.2->tpot) (3.0.0)\n",
            "Requirement already satisfied: contourpy>=1.0.1 in /usr/local/lib/python3.12/dist-packages (from matplotlib>=3.6.2->tpot) (1.3.3)\n",
            "Requirement already satisfied: cycler>=0.10 in /usr/local/lib/python3.12/dist-packages (from matplotlib>=3.6.2->tpot) (0.12.1)\n",
            "Requirement already satisfied: fonttools>=4.22.0 in /usr/local/lib/python3.12/dist-packages (from matplotlib>=3.6.2->tpot) (4.59.2)\n",
            "Requirement already satisfied: kiwisolver>=1.3.1 in /usr/local/lib/python3.12/dist-packages (from matplotlib>=3.6.2->tpot) (1.4.9)\n",
            "Requirement already satisfied: pillow>=8 in /usr/local/lib/python3.12/dist-packages (from matplotlib>=3.6.2->tpot) (11.3.0)\n",
            "Requirement already satisfied: python-dateutil>=2.7 in /usr/local/lib/python3.12/dist-packages (from matplotlib>=3.6.2->tpot) (2.9.0.post0)\n",
            "Requirement already satisfied: alembic>=1.5.0 in /usr/local/lib/python3.12/dist-packages (from optuna>=3.0.5->tpot) (1.16.5)\n",
            "Collecting colorlog (from optuna>=3.0.5->tpot)\n",
            "  Downloading colorlog-6.9.0-py3-none-any.whl.metadata (10 kB)\n",
            "Requirement already satisfied: sqlalchemy>=1.4.2 in /usr/local/lib/python3.12/dist-packages (from optuna>=3.0.5->tpot) (2.0.43)\n",
            "Requirement already satisfied: pytz>=2020.1 in /usr/local/lib/python3.12/dist-packages (from pandas>=2.2.0->tpot) (2025.2)\n",
            "Requirement already satisfied: tzdata>=2022.7 in /usr/local/lib/python3.12/dist-packages (from pandas>=2.2.0->tpot) (2025.2)\n",
            "Requirement already satisfied: threadpoolctl>=3.1.0 in /usr/local/lib/python3.12/dist-packages (from scikit-learn>=1.6->tpot) (3.6.0)\n",
            "Requirement already satisfied: requests>=2.3.0 in /usr/local/lib/python3.12/dist-packages (from update-checker>=0.16->tpot) (2.32.4)\n",
            "Requirement already satisfied: nvidia-nccl-cu12 in /usr/local/lib/python3.12/dist-packages (from xgboost>=3.0.0->tpot) (2.27.3)\n",
            "Requirement already satisfied: Mako in /usr/local/lib/python3.12/dist-packages (from alembic>=1.5.0->optuna>=3.0.5->tpot) (1.3.10)\n",
            "Requirement already satisfied: MarkupSafe>=2.0 in /usr/local/lib/python3.12/dist-packages (from jinja2>=2.10.3->distributed>=2024.4.2->tpot) (3.0.2)\n",
            "Requirement already satisfied: six>=1.5 in /usr/local/lib/python3.12/dist-packages (from python-dateutil>=2.7->matplotlib>=3.6.2->tpot) (1.17.0)\n",
            "Requirement already satisfied: charset_normalizer<4,>=2 in /usr/local/lib/python3.12/dist-packages (from requests>=2.3.0->update-checker>=0.16->tpot) (3.4.3)\n",
            "Requirement already satisfied: idna<4,>=2.5 in /usr/local/lib/python3.12/dist-packages (from requests>=2.3.0->update-checker>=0.16->tpot) (3.10)\n",
            "Requirement already satisfied: certifi>=2017.4.17 in /usr/local/lib/python3.12/dist-packages (from requests>=2.3.0->update-checker>=0.16->tpot) (2025.8.3)\n",
            "Requirement already satisfied: greenlet>=1 in /usr/local/lib/python3.12/dist-packages (from sqlalchemy>=1.4.2->optuna>=3.0.5->tpot) (3.2.4)\n",
            "Downloading TPOT-1.1.0-py3-none-any.whl (215 kB)\n",
            "\u001b[2K   \u001b[90m━━━━━━━━━━━━━━━━━━━━━━━━━━━━━━━━━━━━━━━━\u001b[0m \u001b[32m215.1/215.1 kB\u001b[0m \u001b[31m19.0 MB/s\u001b[0m eta \u001b[36m0:00:00\u001b[0m\n",
            "\u001b[?25hDownloading dask_expr-2.0.0-py3-none-any.whl (3.2 kB)\n",
            "Downloading dask_jobqueue-0.9.0-py2.py3-none-any.whl (52 kB)\n",
            "\u001b[2K   \u001b[90m━━━━━━━━━━━━━━━━━━━━━━━━━━━━━━━━━━━━━━━━\u001b[0m \u001b[32m52.0/52.0 kB\u001b[0m \u001b[31m5.1 MB/s\u001b[0m eta \u001b[36m0:00:00\u001b[0m\n",
            "\u001b[?25hDownloading dill-0.4.0-py3-none-any.whl (119 kB)\n",
            "\u001b[2K   \u001b[90m━━━━━━━━━━━━━━━━━━━━━━━━━━━━━━━━━━━━━━━━\u001b[0m \u001b[32m119.7/119.7 kB\u001b[0m \u001b[31m11.6 MB/s\u001b[0m eta \u001b[36m0:00:00\u001b[0m\n",
            "\u001b[?25hDownloading optuna-4.5.0-py3-none-any.whl (400 kB)\n",
            "\u001b[2K   \u001b[90m━━━━━━━━━━━━━━━━━━━━━━━━━━━━━━━━━━━━━━━━\u001b[0m \u001b[32m400.9/400.9 kB\u001b[0m \u001b[31m31.7 MB/s\u001b[0m eta \u001b[36m0:00:00\u001b[0m\n",
            "\u001b[?25hDownloading traitlets-5.14.3-py3-none-any.whl (85 kB)\n",
            "\u001b[2K   \u001b[90m━━━━━━━━━━━━━━━━━━━━━━━━━━━━━━━━━━━━━━━━\u001b[0m \u001b[32m85.4/85.4 kB\u001b[0m \u001b[31m8.6 MB/s\u001b[0m eta \u001b[36m0:00:00\u001b[0m\n",
            "\u001b[?25hDownloading update_checker-0.18.0-py3-none-any.whl (7.0 kB)\n",
            "Downloading colorlog-6.9.0-py3-none-any.whl (11 kB)\n",
            "Building wheels for collected packages: configspace, func-timeout, stopit\n",
            "  Building wheel for configspace (pyproject.toml) ... \u001b[?25l\u001b[?25hdone\n",
            "  Created wheel for configspace: filename=configspace-1.2.1-py3-none-any.whl size=115990 sha256=59d966b722bac0645489d9f6a6c8620134ed86b26df250ca1e69d3010357b5c1\n",
            "  Stored in directory: /root/.cache/pip/wheels/bb/a5/10/517a06ebdda14bf732250e82f8ba212a73bf88a8fc675ea2ef\n",
            "  Building wheel for func-timeout (setup.py) ... \u001b[?25l\u001b[?25hdone\n",
            "  Created wheel for func-timeout: filename=func_timeout-4.3.5-py3-none-any.whl size=15077 sha256=b7d8b815e60239a6b33c9d7da80385e97438665da4b84b5e37de11006c47418f\n",
            "  Stored in directory: /root/.cache/pip/wheels/ed/94/4a/9ccd71f7284a92e4137b7dd0ce8540c40ea7c2689251504a49\n",
            "  Building wheel for stopit (setup.py) ... \u001b[?25l\u001b[?25hdone\n",
            "  Created wheel for stopit: filename=stopit-1.1.2-py3-none-any.whl size=11938 sha256=b0ac549a513439aceb95fca14909b9945827d1c41686003da634af9533eccefb\n",
            "  Stored in directory: /root/.cache/pip/wheels/10/10/63/c3c98c9859d2aa59553536cc2ea005d3c9c39e214ab4fd614c\n",
            "Successfully built configspace func-timeout stopit\n",
            "Installing collected packages: stopit, func-timeout, traitlets, dill, colorlog, update-checker, configspace, optuna, dask-expr, dask-jobqueue, tpot\n",
            "  Attempting uninstall: traitlets\n",
            "    Found existing installation: traitlets 5.7.1\n",
            "    Uninstalling traitlets-5.7.1:\n",
            "      Successfully uninstalled traitlets-5.7.1\n",
            "  Attempting uninstall: dill\n",
            "    Found existing installation: dill 0.3.8\n",
            "    Uninstalling dill-0.3.8:\n",
            "      Successfully uninstalled dill-0.3.8\n",
            "\u001b[31mERROR: pip's dependency resolver does not currently take into account all the packages that are installed. This behaviour is the source of the following dependency conflicts.\n",
            "ipython 7.34.0 requires jedi>=0.16, which is not installed.\n",
            "datasets 4.0.0 requires dill<0.3.9,>=0.3.0, but you have dill 0.4.0 which is incompatible.\u001b[0m\u001b[31m\n",
            "\u001b[0mSuccessfully installed colorlog-6.9.0 configspace-1.2.1 dask-expr-2.0.0 dask-jobqueue-0.9.0 dill-0.4.0 func-timeout-4.3.5 optuna-4.5.0 stopit-1.1.2 tpot-1.1.0 traitlets-5.14.3 update-checker-0.18.0\n"
          ]
        },
        {
          "output_type": "display_data",
          "data": {
            "application/vnd.colab-display-data+json": {
              "pip_warning": {
                "packages": [
                  "traitlets"
                ]
              },
              "id": "dd49582e4da74e5e862666c0067990b9"
            }
          },
          "metadata": {}
        }
      ]
    },
    {
      "cell_type": "code",
      "execution_count": 2,
      "metadata": {
        "colab": {
          "base_uri": "https://localhost:8080/"
        },
        "id": "gqTk3wWZK8Hu",
        "outputId": "dea684ae-ea5a-4ed0-e869-dc3a9c00c3f4"
      },
      "outputs": [
        {
          "output_type": "stream",
          "name": "stderr",
          "text": [
            "/usr/local/lib/python3.12/dist-packages/tpot/tpot_estimator/estimator.py:458: UserWarning: Both generations and max_time_mins are set. TPOT will terminate when the first condition is met.\n",
            "  warnings.warn(\"Both generations and max_time_mins are set. TPOT will terminate when the first condition is met.\")\n",
            "INFO:distributed.http.proxy:To route to workers diagnostics web server please install jupyter-server-proxy: python -m pip install jupyter-server-proxy\n",
            "INFO:distributed.scheduler:State start\n",
            "INFO:distributed.scheduler:  Scheduler at:     tcp://127.0.0.1:38463\n",
            "INFO:distributed.scheduler:  dashboard at:  http://127.0.0.1:8787/status\n",
            "INFO:distributed.scheduler:Registering Worker plugin shuffle\n",
            "INFO:distributed.nanny:        Start Nanny at: 'tcp://127.0.0.1:35293'\n",
            "INFO:distributed.scheduler:Register worker addr: tcp://127.0.0.1:35279 name: 0\n",
            "INFO:distributed.scheduler:Starting worker compute stream, tcp://127.0.0.1:35279\n",
            "INFO:distributed.core:Starting established connection to tcp://127.0.0.1:44748\n",
            "INFO:distributed.scheduler:Receive client connection: Client-4ef0c40d-9759-11f0-81f1-0242ac1c000c\n",
            "INFO:distributed.core:Starting established connection to tcp://127.0.0.1:44750\n",
            "Generation: 100%|██████████| 5/5 [03:59<00:00, 47.91s/it]\n",
            "INFO:distributed.scheduler:Retire worker addresses (stimulus_id='retire-workers-1758507269.449269') (0,)\n",
            "INFO:distributed.nanny:Closing Nanny at 'tcp://127.0.0.1:35293'. Reason: nanny-close\n",
            "INFO:distributed.nanny:Nanny asking worker to close. Reason: nanny-close\n",
            "INFO:distributed.core:Received 'close-stream' from tcp://127.0.0.1:44748; closing.\n",
            "INFO:distributed.scheduler:Remove worker addr: tcp://127.0.0.1:35279 name: 0 (stimulus_id='handle-worker-cleanup-1758507269.4597392')\n",
            "ERROR:distributed.scheduler:Removing worker 'tcp://127.0.0.1:35279' caused the cluster to lose scattered data, which can't be recovered: {'ndarray-efdc8911de31b107ef86d7581c8f150b', 'ndarray-7d709153ffd807fcd7e7a8761dc3a94d'} (stimulus_id='handle-worker-cleanup-1758507269.4597392')\n",
            "INFO:distributed.scheduler:Lost all workers\n",
            "INFO:distributed.nanny:Nanny at 'tcp://127.0.0.1:35293' closed.\n",
            "INFO:distributed.scheduler:Closing scheduler. Reason: unknown\n",
            "INFO:distributed.scheduler:Scheduler closing all comms\n"
          ]
        },
        {
          "output_type": "stream",
          "name": "stdout",
          "text": [
            "Best pipeline: Pipeline(steps=[('normalizer', Normalizer(norm=np.str_('l2'))),\n",
            "                ('variancethreshold',\n",
            "                 VarianceThreshold(threshold=0.0031917008133)),\n",
            "                ('featureunion-1',\n",
            "                 FeatureUnion(transformer_list=[('skiptransformer',\n",
            "                                                 SkipTransformer()),\n",
            "                                                ('passthrough',\n",
            "                                                 Passthrough())])),\n",
            "                ('featureunion-2',\n",
            "                 FeatureUnion(transformer_list=[('skiptransformer',\n",
            "                                                 SkipTransformer()),\n",
            "                                                ('passthrough',\n",
            "                                                 Passthrough())])),\n",
            "                ('extratreesclassifier',\n",
            "                 ExtraTreesClassifier(bootstrap=np.True_,\n",
            "                                      criterion=np.str_('gini'),\n",
            "                                      max_features=0.48953013933,\n",
            "                                      min_samples_leaf=10, min_samples_split=11,\n",
            "                                      n_jobs=1, random_state=42))])\n"
          ]
        }
      ],
      "source": [
        "from tpot import TPOTClassifier\n",
        "from sklearn.datasets import load_iris\n",
        "\n",
        "# Set features and target\n",
        "X, y = load_iris(return_X_y=True)\n",
        "\n",
        "# Initialize TPOT AutoML\n",
        "tpot = TPOTClassifier(generations=5, population_size=20, random_state=42)\n",
        "tpot.fit(X,y)\n",
        "\n",
        "print('Best pipeline:', tpot.fitted_pipeline_)"
      ]
    }
  ]
}