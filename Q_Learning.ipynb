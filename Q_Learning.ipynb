{
  "nbformat": 4,
  "nbformat_minor": 0,
  "metadata": {
    "colab": {
      "provenance": [],
      "authorship_tag": "ABX9TyPp3euw3DqVbDtydvz88wvi",
      "include_colab_link": true
    },
    "kernelspec": {
      "name": "python3",
      "display_name": "Python 3"
    },
    "language_info": {
      "name": "python"
    }
  },
  "cells": [
    {
      "cell_type": "markdown",
      "metadata": {
        "id": "view-in-github",
        "colab_type": "text"
      },
      "source": [
        "<a href=\"https://colab.research.google.com/github/shazam-25/Simplify_ML/blob/main/Q_Learning.ipynb\" target=\"_parent\"><img src=\"https://colab.research.google.com/assets/colab-badge.svg\" alt=\"Open In Colab\"/></a>"
      ]
    },
    {
      "cell_type": "code",
      "execution_count": 1,
      "metadata": {
        "colab": {
          "base_uri": "https://localhost:8080/"
        },
        "id": "iwpQF3ZkxhVV",
        "outputId": "a383dec5-ae9b-4c19-b794-c40172296670"
      },
      "outputs": [
        {
          "output_type": "stream",
          "name": "stdout",
          "text": [
            "Learning Q-table:\n",
            "[[3.10731429 6.88830652]\n",
            " [1.83905741 6.93052264]\n",
            " [5.805636   1.14950819]\n",
            " [6.83784867 3.42526744]]\n"
          ]
        }
      ],
      "source": [
        "import numpy as np\n",
        "\n",
        "# Simple environment: 4 states, 2 actions\n",
        "n_states = 4\n",
        "n_actions = 2\n",
        "Q = np.zeros((n_states, n_actions)) # Initialize Q-table\n",
        "alpha = 0.1   # Learning rate\n",
        "gamma = 0.9   # Discount factor\n",
        "epsilon = 0.2 # Exploration probability\n",
        "n_episodes = 50\n",
        "\n",
        "# Simple reward table for demonstration\n",
        "R = np.array([\n",
        "    [0, 1],   # Rewards fpr state 0\n",
        "    [0, 2],   # State 1\n",
        "    [0, 0],   # State 2\n",
        "    [1, 0]    # State 3\n",
        "])\n",
        "\n",
        "# Q-Learning loop\n",
        "for episode in range(n_episodes):\n",
        "  state = np.random.randint(0, n_states)    # Random start\n",
        "  done = False\n",
        "  for step in range(10):\n",
        "    # Epsilon-greedy action\n",
        "    if np.random.rand() < epsilon:\n",
        "      action = np.random.randint(n_actions)\n",
        "    else:\n",
        "      action = np.argmax(Q[state])\n",
        "\n",
        "    # Get reward and next state (simplified)\n",
        "    reward = R[state, action]\n",
        "    next_state = (state + 1) % n_states\n",
        "\n",
        "    # Q-learning update\n",
        "    Q[state, action] += alpha * (reward + gamma * np.max(Q[next_state]) - Q[state, action])\n",
        "    state = next_state\n",
        "\n",
        "print(f'Learning Q-table:\\n{Q}')"
      ]
    }
  ]
}