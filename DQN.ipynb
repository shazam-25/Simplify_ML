{
  "nbformat": 4,
  "nbformat_minor": 0,
  "metadata": {
    "colab": {
      "provenance": [],
      "authorship_tag": "ABX9TyNIWlY28n5SmcTRKeUjTv/S",
      "include_colab_link": true
    },
    "kernelspec": {
      "name": "python3",
      "display_name": "Python 3"
    },
    "language_info": {
      "name": "python"
    }
  },
  "cells": [
    {
      "cell_type": "markdown",
      "metadata": {
        "id": "view-in-github",
        "colab_type": "text"
      },
      "source": [
        "<a href=\"https://colab.research.google.com/github/shazam-25/Simplify_ML/blob/main/DQN.ipynb\" target=\"_parent\"><img src=\"https://colab.research.google.com/assets/colab-badge.svg\" alt=\"Open In Colab\"/></a>"
      ]
    },
    {
      "cell_type": "code",
      "execution_count": 1,
      "metadata": {
        "colab": {
          "base_uri": "https://localhost:8080/"
        },
        "id": "q9-EvlZC1qlY",
        "outputId": "277cee26-6bd0-4977-ca6b-89ee6fa2db8d"
      },
      "outputs": [
        {
          "output_type": "stream",
          "name": "stdout",
          "text": [
            "Learned policy probabilities: [0.13714675 0.86285325]\n"
          ]
        }
      ],
      "source": [
        "# Policy Gradient Method\n",
        "import numpy as np\n",
        "\n",
        "# Tiny environment: 1 state, 2 actions\n",
        "theta = np.array([0.0, 0.0])    # Policy parameters\n",
        "alpha = 0.1   # Learning rate\n",
        "\n",
        "def softmax(x):\n",
        "  e = np.exp(x - np.max(x))\n",
        "  return e / e.sum()\n",
        "\n",
        "# Toy reward function\n",
        "def reward(a):\n",
        "  return 1 if a == 1 else 0\n",
        "\n",
        "for episode in range(50):\n",
        "  probs = softmax(theta)\n",
        "  action = np.random.choice([0, 1], p=probs)\n",
        "  r = reward(action)\n",
        "  # Policy gradient update\n",
        "  grad = -probs\n",
        "  grad[action] += 1\n",
        "  theta += alpha * grad * r\n",
        "\n",
        "print(f'Learned policy probabilities: {softmax(theta)}')"
      ]
    }
  ]
}