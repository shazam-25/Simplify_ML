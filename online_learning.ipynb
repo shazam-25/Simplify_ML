{
  "nbformat": 4,
  "nbformat_minor": 0,
  "metadata": {
    "colab": {
      "provenance": [],
      "authorship_tag": "ABX9TyPxEFD09nutj3V4dUU5bzbW",
      "include_colab_link": true
    },
    "kernelspec": {
      "name": "python3",
      "display_name": "Python 3"
    },
    "language_info": {
      "name": "python"
    }
  },
  "cells": [
    {
      "cell_type": "markdown",
      "metadata": {
        "id": "view-in-github",
        "colab_type": "text"
      },
      "source": [
        "<a href=\"https://colab.research.google.com/github/shazam-25/Simplify_ML/blob/main/online_learning.ipynb\" target=\"_parent\"><img src=\"https://colab.research.google.com/assets/colab-badge.svg\" alt=\"Open In Colab\"/></a>"
      ]
    },
    {
      "cell_type": "code",
      "execution_count": 5,
      "metadata": {
        "colab": {
          "base_uri": "https://localhost:8080/"
        },
        "id": "rHGMw_9rD_uX",
        "outputId": "885d9a2a-f7b8-4e24-8963-a42e70c6cb43"
      },
      "outputs": [
        {
          "output_type": "stream",
          "name": "stdout",
          "text": [
            "Processed batch starting at index: 0 --- Training Accuracy: 0.48\n",
            "Processed batch starting at index: 50 --- Training Accuracy: 0.74\n",
            "Processed batch starting at index: 100 --- Training Accuracy: 0.6\n",
            "Processed batch starting at index: 150 --- Training Accuracy: 0.78\n",
            "Processed batch starting at index: 200 --- Training Accuracy: 0.82\n",
            "Processed batch starting at index: 250 --- Training Accuracy: 0.78\n",
            "Processed batch starting at index: 300 --- Training Accuracy: 1.0\n",
            "Processed batch starting at index: 350 --- Training Accuracy: 0.76\n",
            "Processed batch starting at index: 400 --- Training Accuracy: 0.72\n",
            "Processed batch starting at index: 450 --- Training Accuracy: 0.84\n",
            "Processed batch starting at index: 500 --- Training Accuracy: 1.0\n",
            "Processed batch starting at index: 550 --- Training Accuracy: 0.9\n",
            "Processed batch starting at index: 600 --- Training Accuracy: 0.82\n",
            "Processed batch starting at index: 650 --- Training Accuracy: 0.8\n",
            "Processed batch starting at index: 700 --- Training Accuracy: 0.92\n",
            "Processed batch starting at index: 750 --- Training Accuracy: 0.84\n",
            "Processed batch starting at index: 800 --- Training Accuracy: 0.9\n",
            "Processed batch starting at index: 850 --- Training Accuracy: 0.98\n",
            "Processed batch starting at index: 900 --- Training Accuracy: 0.98\n",
            "Processed batch starting at index: 950 --- Training Accuracy: 1.0\n",
            "Online model trained incrementally\n"
          ]
        }
      ],
      "source": [
        "from sklearn.linear_model import SGDClassifier\n",
        "import numpy as np\n",
        "from sklearn.metrics import accuracy_score\n",
        "\n",
        "# Generate synthetic data\n",
        "X = np.random.rand(1000, 4)\n",
        "y = (X.sum(axis=1) > 2).astype(int)\n",
        "\n",
        "# Initialize SGDClassifier for online learning\n",
        "clf_online = SGDClassifier(loss='log_loss', random_state=42)\n",
        "\n",
        "# Online training using partial fit\n",
        "for i in range(0, 1000, 50):\n",
        "  clf_online.partial_fit(X[i:i+50], y[i:i+50], classes=([0,1]))\n",
        "  y_pred = clf_online.predict(X[i:i+50])\n",
        "  accuracy = accuracy_score(y[i:i+50], y_pred)\n",
        "  print(f'Processed batch starting at index: {i} --- Training Accuracy: {accuracy}')\n",
        "\n",
        "print('Online model trained incrementally')\n"
      ]
    }
  ]
}